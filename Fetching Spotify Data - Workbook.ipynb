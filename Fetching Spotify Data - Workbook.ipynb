{
 "cells": [
  {
   "cell_type": "code",
   "execution_count": 1,
   "metadata": {},
   "outputs": [],
   "source": [
    "import sp_config\n",
    "import spotipy\n",
    "import re"
   ]
  },
  {
   "cell_type": "code",
   "execution_count": 2,
   "metadata": {},
   "outputs": [],
   "source": [
    "artist = 'Curtis Waters'\n",
    "title = 'Stunnin'\n",
    "\n",
    "client_id = sp_config.my_dict['client_id']\n",
    "client_secret = sp_config.my_dict['client_secret']"
   ]
  },
  {
   "cell_type": "code",
   "execution_count": 3,
   "metadata": {},
   "outputs": [],
   "source": [
    "client = spotipy.SpotifyClientCredentials(client_id, client_secret)"
   ]
  },
  {
   "cell_type": "code",
   "execution_count": 4,
   "metadata": {},
   "outputs": [],
   "source": [
    "s_client = spotipy.Spotify(client_credentials_manager=client)"
   ]
  },
  {
   "cell_type": "code",
   "execution_count": 5,
   "metadata": {},
   "outputs": [],
   "source": [
    "results = s_client.search(q= artist.lower())"
   ]
  },
  {
   "cell_type": "code",
   "execution_count": 6,
   "metadata": {},
   "outputs": [
    {
     "name": "stdout",
     "output_type": "stream",
     "text": [
      "Success!!\n",
      "Stunnin' (feat. Harm Franklin)\n",
      "Success!!\n",
      "Stunnin' (feat. Harm Franklin)\n"
     ]
    }
   ],
   "source": [
    "for i in range(len(results['tracks']['items'])):\n",
    "    if re.match(title.lower(), results['tracks']['items'][i]['name'].lower()):\n",
    "        print(\"Success!!\")\n",
    "        print(results['tracks']['items'][i]['name'])\n",
    "        song_id = results['tracks']['items'][i]['id']\n",
    "    \n",
    "\n",
    "# results['tracks']['items'][0]['name']"
   ]
  },
  {
   "cell_type": "markdown",
   "metadata": {},
   "source": [
    "# "
   ]
  },
  {
   "cell_type": "code",
   "execution_count": 36,
   "metadata": {},
   "outputs": [
    {
     "data": {
      "text/plain": [
       "dict"
      ]
     },
     "execution_count": 36,
     "metadata": {},
     "output_type": "execute_result"
    }
   ],
   "source": [
    "\n",
    "features = s_client.audio_features(song_id)\n",
    "feature_dict = features[0]\n",
    "my_features = {key:value for key, value in feature_dict.items() if key not in ['type', 'id', 'uri', 'track_href','analysis_url']}\n",
    "\n",
    "type(my_features)"
   ]
  },
  {
   "cell_type": "code",
   "execution_count": 7,
   "metadata": {},
   "outputs": [],
   "source": [
    "analysis = s_client.audio_analysis(song_id)"
   ]
  },
  {
   "cell_type": "code",
   "execution_count": 23,
   "metadata": {},
   "outputs": [
    {
     "data": {
      "text/plain": [
       "12"
      ]
     },
     "execution_count": 23,
     "metadata": {},
     "output_type": "execute_result"
    }
   ],
   "source": [
    "len(analysis['sections'][2])"
   ]
  },
  {
   "cell_type": "code",
   "execution_count": 24,
   "metadata": {},
   "outputs": [
    {
     "data": {
      "text/plain": [
       "{'sections': 12, 'chorus_hit': 19.23097}"
      ]
     },
     "execution_count": 24,
     "metadata": {},
     "output_type": "execute_result"
    }
   ],
   "source": [
    "my_analysis_dict = {key:value for key,value in analysis['sections'][2].items() if key == 'start'}\n",
    "my_analysis_dict.update({'sections': len(analysis['sections'][2])})\n",
    "new_key = \"chorus_hit\"\n",
    "old_key = \"start\"\n",
    "my_analysis_dict[new_key] = my_analysis_dict.pop(old_key)\n",
    "my_analysis_dict"
   ]
  },
  {
   "cell_type": "code",
   "execution_count": 21,
   "metadata": {},
   "outputs": [
    {
     "data": {
      "text/plain": [
       "{'start': 19.23097}"
      ]
     },
     "execution_count": 21,
     "metadata": {},
     "output_type": "execute_result"
    }
   ],
   "source": []
  },
  {
   "cell_type": "code",
   "execution_count": 27,
   "metadata": {},
   "outputs": [],
   "source": [
    "from spotify_api.fetch_data import *"
   ]
  },
  {
   "cell_type": "code",
   "execution_count": null,
   "metadata": {},
   "outputs": [],
   "source": [
    "song_id = get_song_id('like that', 'doja cat')"
   ]
  },
  {
   "cell_type": "code",
   "execution_count": 34,
   "metadata": {},
   "outputs": [],
   "source": [
    "dict_one = get_audio_features(song_id)"
   ]
  },
  {
   "cell_type": "code",
   "execution_count": 35,
   "metadata": {},
   "outputs": [],
   "source": [
    "dict_two = get_audio_analysis_feat(song_id)"
   ]
  },
  {
   "cell_type": "code",
   "execution_count": 39,
   "metadata": {},
   "outputs": [],
   "source": [
    "dict_one.update(dict_two)"
   ]
  },
  {
   "cell_type": "code",
   "execution_count": 41,
   "metadata": {},
   "outputs": [
    {
     "data": {
      "text/plain": [
       "{'danceability': 0.879,\n",
       " 'energy': 0.499,\n",
       " 'key': 4,\n",
       " 'loudness': -6.027,\n",
       " 'mode': 0,\n",
       " 'speechiness': 0.18,\n",
       " 'acousticness': 0.24,\n",
       " 'instrumentalness': 0,\n",
       " 'liveness': 0.0967,\n",
       " 'valence': 0.405,\n",
       " 'tempo': 106.043,\n",
       " 'duration_ms': 163173,\n",
       " 'time_signature': 4,\n",
       " 'sections': 12,\n",
       " 'chorus_hit': 54.37275}"
      ]
     },
     "execution_count": 41,
     "metadata": {},
     "output_type": "execute_result"
    }
   ],
   "source": [
    "dict_one"
   ]
  },
  {
   "cell_type": "code",
   "execution_count": null,
   "metadata": {},
   "outputs": [],
   "source": []
  }
 ],
 "metadata": {
  "kernelspec": {
   "display_name": "Python 3",
   "language": "python",
   "name": "python3"
  },
  "language_info": {
   "codemirror_mode": {
    "name": "ipython",
    "version": 3
   },
   "file_extension": ".py",
   "mimetype": "text/x-python",
   "name": "python",
   "nbconvert_exporter": "python",
   "pygments_lexer": "ipython3",
   "version": "3.7.4"
  },
  "toc": {
   "base_numbering": 1,
   "nav_menu": {},
   "number_sections": true,
   "sideBar": true,
   "skip_h1_title": false,
   "title_cell": "Table of Contents",
   "title_sidebar": "Contents",
   "toc_cell": false,
   "toc_position": {},
   "toc_section_display": true,
   "toc_window_display": true
  }
 },
 "nbformat": 4,
 "nbformat_minor": 2
}
