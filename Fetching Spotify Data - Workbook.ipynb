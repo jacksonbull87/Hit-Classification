{
 "cells": [
  {
   "cell_type": "code",
   "execution_count": 1,
   "metadata": {},
   "outputs": [],
   "source": [
    "import sp_config\n",
    "import spotipy\n",
    "import re"
   ]
  },
  {
   "cell_type": "code",
   "execution_count": 10,
   "metadata": {},
   "outputs": [],
   "source": [
    "artist = 'Curtis Waters'\n",
    "title = 'Stunnin'\n",
    "\n",
    "client_id = sp_config.my_dict['client_id']\n",
    "client_secret = sp_config.my_dict['client_secret']"
   ]
  },
  {
   "cell_type": "code",
   "execution_count": 11,
   "metadata": {},
   "outputs": [],
   "source": [
    "client = spotipy.SpotifyClientCredentials(client_id, client_secret)"
   ]
  },
  {
   "cell_type": "code",
   "execution_count": 12,
   "metadata": {},
   "outputs": [],
   "source": [
    "s_client = spotipy.Spotify(client_credentials_manager=client)"
   ]
  },
  {
   "cell_type": "code",
   "execution_count": 5,
   "metadata": {},
   "outputs": [],
   "source": [
    "results = s_client.search(q= artist.lower())"
   ]
  },
  {
   "cell_type": "code",
   "execution_count": 9,
   "metadata": {},
   "outputs": [
    {
     "name": "stdout",
     "output_type": "stream",
     "text": [
      "Success!!\n",
      "Stunnin' (feat. Harm Franklin)\n",
      "Success!!\n",
      "Stunnin' (feat. Harm Franklin)\n"
     ]
    }
   ],
   "source": [
    "for i in range(len(results['tracks']['items'])):\n",
    "    if re.match(title.lower(), results['tracks']['items'][i]['name'].lower()):\n",
    "        print(\"Success!!\")\n",
    "        print(results['tracks']['items'][i]['name'])\n",
    "        song_id = results['tracks']['items'][i]['id']\n",
    "    \n",
    "\n",
    "# results['tracks']['items'][0]['name']"
   ]
  },
  {
   "cell_type": "markdown",
   "metadata": {},
   "source": [
    "# "
   ]
  },
  {
   "cell_type": "code",
   "execution_count": 36,
   "metadata": {},
   "outputs": [
    {
     "data": {
      "text/plain": [
       "dict"
      ]
     },
     "execution_count": 36,
     "metadata": {},
     "output_type": "execute_result"
    }
   ],
   "source": [
    "\n",
    "features = s_client.audio_features(song_id)\n",
    "feature_dict = features[0]\n",
    "my_features = {key:value for key, value in feature_dict.items() if key not in ['type', 'id', 'uri', 'track_href','analysis_url']}\n",
    "\n",
    "type(my_features)"
   ]
  },
  {
   "cell_type": "code",
   "execution_count": 15,
   "metadata": {},
   "outputs": [],
   "source": [
    "analysis = s_client.audio_analysis(song_id)"
   ]
  },
  {
   "cell_type": "code",
   "execution_count": 19,
   "metadata": {},
   "outputs": [
    {
     "data": {
      "text/plain": [
       "19.23097"
      ]
     },
     "execution_count": 19,
     "metadata": {},
     "output_type": "execute_result"
    }
   ],
   "source": [
    "analysis['sections'][2]['start']"
   ]
  },
  {
   "cell_type": "code",
   "execution_count": 30,
   "metadata": {},
   "outputs": [
    {
     "data": {
      "text/plain": [
       "{'danceability': 0.879,\n",
       " 'energy': 0.68,\n",
       " 'key': 11,\n",
       " 'loudness': -6.452,\n",
       " 'mode': 0,\n",
       " 'speechiness': 0.0626,\n",
       " 'acousticness': 0.3,\n",
       " 'instrumentalness': 0,\n",
       " 'liveness': 0.157,\n",
       " 'valence': 0.939,\n",
       " 'tempo': 99.996,\n",
       " 'type': 'audio_features',\n",
       " 'id': '4PCuawKk43uo3VwOYEwUEA',\n",
       " 'uri': 'spotify:track:4PCuawKk43uo3VwOYEwUEA',\n",
       " 'track_href': 'https://api.spotify.com/v1/tracks/4PCuawKk43uo3VwOYEwUEA',\n",
       " 'analysis_url': 'https://api.spotify.com/v1/audio-analysis/4PCuawKk43uo3VwOYEwUEA',\n",
       " 'duration_ms': 144000,\n",
       " 'time_signature': 4}"
      ]
     },
     "execution_count": 30,
     "metadata": {},
     "output_type": "execute_result"
    }
   ],
   "source": []
  },
  {
   "cell_type": "code",
   "execution_count": null,
   "metadata": {},
   "outputs": [],
   "source": []
  }
 ],
 "metadata": {
  "kernelspec": {
   "display_name": "Python 3",
   "language": "python",
   "name": "python3"
  },
  "language_info": {
   "codemirror_mode": {
    "name": "ipython",
    "version": 3
   },
   "file_extension": ".py",
   "mimetype": "text/x-python",
   "name": "python",
   "nbconvert_exporter": "python",
   "pygments_lexer": "ipython3",
   "version": "3.7.4"
  },
  "toc": {
   "base_numbering": 1,
   "nav_menu": {},
   "number_sections": true,
   "sideBar": true,
   "skip_h1_title": false,
   "title_cell": "Table of Contents",
   "title_sidebar": "Contents",
   "toc_cell": false,
   "toc_position": {},
   "toc_section_display": true,
   "toc_window_display": true
  }
 },
 "nbformat": 4,
 "nbformat_minor": 2
}
